{
 "cells": [
  {
   "cell_type": "code",
   "execution_count": null,
   "metadata": {},
   "outputs": [],
   "source": [
    "# MLP para classificação multiclasses\n",
    "import time as time\n",
    "from numpy import argmax\n",
    "from matplotlib import pyplot\n",
    "from pandas import read_csv\n",
    "from sklearn.model_selection import train_test_split\n",
    "from sklearn.preprocessing import LabelEncoder\n",
    "from tensorflow.keras import Sequential\n",
    "from tensorflow.keras.layers import Dense"
   ]
  },
  {
   "cell_type": "code",
   "execution_count": null,
   "metadata": {},
   "outputs": [],
   "source": [
    "# Carregando a base de dados\n",
    "path = 'https://raw.githubusercontent.com/muriloasouza/Doutorado/master/Flower_Multiclass.txt'\n",
    "df = read_csv(path, header=None)\n",
    "# Dividindo em coluncas de entrada e saída\n",
    "X = df.values[:, :-1] # Todas as linhas e todas as colunas menos a última\n",
    "y = df.values[:, -1] # Todas as linhas e a última coluna\n",
    "# Mudando todos os dados de entrada para ponto flutuante\n",
    "X = X.astype('float32')\n",
    "# Transformando as strings em numeros inteiros\n",
    "y = LabelEncoder().fit_transform(y) # A saída são strings com os nomes das 3 flores que serão transformadas em classe (0, 1 e 2)"
   ]
  },
  {
   "cell_type": "code",
   "execution_count": null,
   "metadata": {},
   "outputs": [],
   "source": [
    "# Dividindo a base de dados em conjunto de treinamento e conjunto de teste\n",
    "X_train, X_test, y_train, y_test = train_test_split(X, y, test_size=0.33,shuffle = True) # Embaralhando e dividindo\n",
    "print(X_train.shape, X_test.shape, y_train.shape, y_test.shape)\n",
    "# Determinando o numero de caracteristicas (features)\n",
    "n_features = X_train.shape[1]\n",
    "print(n_features)"
   ]
  },
  {
   "cell_type": "code",
   "execution_count": null,
   "metadata": {},
   "outputs": [],
   "source": [
    "# Definindo o modelo (Dense indica uma camada totalmente conectada)\n",
    "model = Sequential()\n",
    "model.add(Dense(10, activation='relu', kernel_initializer='he_normal', input_shape=(n_features,)))\n",
    "model.add(Dense(8, activation='relu', kernel_initializer='he_normal'))\n",
    "model.add(Dense(3, activation='softmax')) # 3 classes\n",
    "# Compilando o modelo\n",
    "model.compile(optimizer='adam', loss='sparse_categorical_crossentropy', metrics=['accuracy'])\n",
    "model.summary()"
   ]
  },
  {
   "cell_type": "code",
   "execution_count": null,
   "metadata": {},
   "outputs": [],
   "source": [
    "# Ajustando o modelo com o conjunto de treinamento\n",
    "print('Ajustando o modelo com o conjunto de treinamento')\n",
    "t = time.time()\n",
    "history = model.fit(X_train, y_train, epochs=150, batch_size=32, validation_data=(X_test, y_test), verbose=2)\n",
    "print(\"Tempo: %.4f minutes\" % ((time.time() - t)/60))"
   ]
  },
  {
   "cell_type": "code",
   "execution_count": null,
   "metadata": {},
   "outputs": [],
   "source": [
    "# Avaliando o modelo com o conjunto de teste\n",
    "print('Avaliando o modelo com o conjunto de teste')\n",
    "loss, acc = model.evaluate(X_test, y_test, verbose=0)\n",
    "print('Perdas no teste: %.4f' % loss)\n",
    "print('Acurácia no teste: %.4f' % acc)"
   ]
  },
  {
   "cell_type": "code",
   "execution_count": null,
   "metadata": {},
   "outputs": [],
   "source": [
    "# Fazendo uma predição\n",
    "linha = [5.1,3.5,1.4,0.2]\n",
    "ychapeu = model.predict([linha])\n",
    "print('Predita: %s (class=%d)' % (ychapeu, argmax(ychapeu)))"
   ]
  },
  {
   "cell_type": "code",
   "execution_count": null,
   "metadata": {},
   "outputs": [],
   "source": [
    "# Plotando curvas de perdas e métrica\n",
    "pyplot.title('Perdas')\n",
    "pyplot.xlabel('Época')\n",
    "pyplot.ylabel('Sparse Categorical Crossentropy')\n",
    "pyplot.plot(history.history['loss'], label='train')\n",
    "pyplot.plot(history.history['val_loss'], label='val')\n",
    "pyplot.legend()\n",
    "pyplot.show()\n",
    "\n",
    "pyplot.title('Metrica')\n",
    "pyplot.xlabel('Época')\n",
    "pyplot.ylabel('Accuracy')\n",
    "pyplot.plot(history.history['accuracy'], label='train')\n",
    "pyplot.plot(history.history['val_accuracy'], label='val')\n",
    "pyplot.legend()\n",
    "pyplot.show()"
   ]
  },
  {
   "cell_type": "code",
   "execution_count": null,
   "metadata": {},
   "outputs": [],
   "source": [
    "# Salvando o modelo em um arquivo\n",
    "model.save('MLP_Flower_Multiclass.h5-Final')"
   ]
  },
  {
   "cell_type": "code",
   "execution_count": null,
   "metadata": {},
   "outputs": [],
   "source": []
  }
 ],
 "metadata": {
  "kernelspec": {
   "display_name": "Python 3",
   "language": "python",
   "name": "python3"
  },
  "language_info": {
   "codemirror_mode": {
    "name": "ipython",
    "version": 3
   },
   "file_extension": ".py",
   "mimetype": "text/x-python",
   "name": "python",
   "nbconvert_exporter": "python",
   "pygments_lexer": "ipython3",
   "version": "3.8.3"
  }
 },
 "nbformat": 4,
 "nbformat_minor": 2
}
